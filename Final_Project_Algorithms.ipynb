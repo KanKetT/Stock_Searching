{
  "nbformat": 4,
  "nbformat_minor": 0,
  "metadata": {
    "colab": {
      "provenance": [],
      "collapsed_sections": [
        "mj5DggPEx_Ui",
        "VdhME0dKx0iB",
        "DTsXr259x-Ah",
        "s1OcLsXuxj_X",
        "CxUd_JZvyiEH",
        "3IQpXw-Oywos",
        "so03L3Z15Ovh",
        "tKpmz5s_usxF"
      ]
    },
    "kernelspec": {
      "name": "python3",
      "display_name": "Python 3"
    },
    "language_info": {
      "name": "python"
    }
  },
  "cells": [
    {
      "cell_type": "markdown",
      "metadata": {
        "id": "mj5DggPEx_Ui"
      },
      "source": [
        "## **INSTALL LIBRALY**"
      ]
    },
    {
      "cell_type": "code",
      "metadata": {
        "id": "2iqdInucw_9w",
        "colab": {
          "base_uri": "https://localhost:8080/"
        },
        "outputId": "5cf6947b-542d-45bb-a558-c9604a68bf13"
      },
      "source": [
        "pip install mplfinance"
      ],
      "execution_count": null,
      "outputs": [
        {
          "output_type": "stream",
          "name": "stdout",
          "text": [
            "Requirement already satisfied: mplfinance in /usr/local/lib/python3.7/dist-packages (0.12.7a17)\n",
            "Requirement already satisfied: matplotlib in /usr/local/lib/python3.7/dist-packages (from mplfinance) (3.2.2)\n",
            "Requirement already satisfied: pandas in /usr/local/lib/python3.7/dist-packages (from mplfinance) (1.1.5)\n",
            "Requirement already satisfied: numpy>=1.11 in /usr/local/lib/python3.7/dist-packages (from matplotlib->mplfinance) (1.19.5)\n",
            "Requirement already satisfied: kiwisolver>=1.0.1 in /usr/local/lib/python3.7/dist-packages (from matplotlib->mplfinance) (1.3.2)\n",
            "Requirement already satisfied: pyparsing!=2.0.4,!=2.1.2,!=2.1.6,>=2.0.1 in /usr/local/lib/python3.7/dist-packages (from matplotlib->mplfinance) (2.4.7)\n",
            "Requirement already satisfied: cycler>=0.10 in /usr/local/lib/python3.7/dist-packages (from matplotlib->mplfinance) (0.11.0)\n",
            "Requirement already satisfied: python-dateutil>=2.1 in /usr/local/lib/python3.7/dist-packages (from matplotlib->mplfinance) (2.8.2)\n",
            "Requirement already satisfied: six>=1.5 in /usr/local/lib/python3.7/dist-packages (from python-dateutil>=2.1->matplotlib->mplfinance) (1.15.0)\n",
            "Requirement already satisfied: pytz>=2017.2 in /usr/local/lib/python3.7/dist-packages (from pandas->mplfinance) (2018.9)\n"
          ]
        }
      ]
    },
    {
      "cell_type": "code",
      "metadata": {
        "id": "nD2fZmD0xFcg",
        "colab": {
          "base_uri": "https://localhost:8080/"
        },
        "outputId": "a27efa37-d4cd-4640-8023-49515a139dfc"
      },
      "source": [
        "pip install mpl_finance"
      ],
      "execution_count": null,
      "outputs": [
        {
          "output_type": "stream",
          "name": "stdout",
          "text": [
            "Requirement already satisfied: mpl_finance in /usr/local/lib/python3.7/dist-packages (0.10.1)\n",
            "Requirement already satisfied: matplotlib in /usr/local/lib/python3.7/dist-packages (from mpl_finance) (3.2.2)\n",
            "Requirement already satisfied: cycler>=0.10 in /usr/local/lib/python3.7/dist-packages (from matplotlib->mpl_finance) (0.11.0)\n",
            "Requirement already satisfied: kiwisolver>=1.0.1 in /usr/local/lib/python3.7/dist-packages (from matplotlib->mpl_finance) (1.3.2)\n",
            "Requirement already satisfied: python-dateutil>=2.1 in /usr/local/lib/python3.7/dist-packages (from matplotlib->mpl_finance) (2.8.2)\n",
            "Requirement already satisfied: pyparsing!=2.0.4,!=2.1.2,!=2.1.6,>=2.0.1 in /usr/local/lib/python3.7/dist-packages (from matplotlib->mpl_finance) (2.4.7)\n",
            "Requirement already satisfied: numpy>=1.11 in /usr/local/lib/python3.7/dist-packages (from matplotlib->mpl_finance) (1.19.5)\n",
            "Requirement already satisfied: six>=1.5 in /usr/local/lib/python3.7/dist-packages (from python-dateutil>=2.1->matplotlib->mpl_finance) (1.15.0)\n"
          ]
        }
      ]
    },
    {
      "cell_type": "code",
      "metadata": {
        "id": "Fi1sZBgIxG1i",
        "colab": {
          "base_uri": "https://localhost:8080/"
        },
        "outputId": "7c6d6f5b-363d-40c5-cbf2-bb956792677c"
      },
      "source": [
        "pip install starfishX --upgrade"
      ],
      "execution_count": null,
      "outputs": [
        {
          "output_type": "stream",
          "name": "stdout",
          "text": [
            "Requirement already satisfied: starfishX in /usr/local/lib/python3.7/dist-packages (0.155535)\n",
            "Requirement already satisfied: pyqt5 in /usr/local/lib/python3.7/dist-packages (from starfishX) (5.15.6)\n",
            "Requirement already satisfied: pandas in /usr/local/lib/python3.7/dist-packages (from starfishX) (1.1.5)\n",
            "Requirement already satisfied: html5lib in /usr/local/lib/python3.7/dist-packages (from starfishX) (1.0.1)\n",
            "Requirement already satisfied: scipy in /usr/local/lib/python3.7/dist-packages (from starfishX) (1.4.1)\n",
            "Requirement already satisfied: urllib3 in /usr/local/lib/python3.7/dist-packages (from starfishX) (1.24.3)\n",
            "Requirement already satisfied: pythainlp in /usr/local/lib/python3.7/dist-packages (from starfishX) (2.3.2)\n",
            "Requirement already satisfied: requests in /usr/local/lib/python3.7/dist-packages (from starfishX) (2.23.0)\n",
            "Requirement already satisfied: tqdm in /usr/local/lib/python3.7/dist-packages (from starfishX) (4.62.3)\n",
            "Requirement already satisfied: seaborn in /usr/local/lib/python3.7/dist-packages (from starfishX) (0.11.2)\n",
            "Requirement already satisfied: squarify in /usr/local/lib/python3.7/dist-packages (from starfishX) (0.4.3)\n",
            "Requirement already satisfied: beautifulsoup4 in /usr/local/lib/python3.7/dist-packages (from starfishX) (4.6.3)\n",
            "Requirement already satisfied: ffn in /usr/local/lib/python3.7/dist-packages (from starfishX) (0.3.6)\n",
            "Requirement already satisfied: selenium in /usr/local/lib/python3.7/dist-packages (from starfishX) (3.141.0)\n",
            "Requirement already satisfied: sklearn in /usr/local/lib/python3.7/dist-packages (from starfishX) (0.0)\n",
            "Requirement already satisfied: numpy>=1.5 in /usr/local/lib/python3.7/dist-packages (from ffn->starfishX) (1.19.5)\n",
            "Requirement already satisfied: scikit-learn>=0.15 in /usr/local/lib/python3.7/dist-packages (from ffn->starfishX) (0.22.2.post1)\n",
            "Requirement already satisfied: decorator>=4 in /usr/local/lib/python3.7/dist-packages (from ffn->starfishX) (4.4.2)\n",
            "Requirement already satisfied: pandas-datareader>=0.2 in /usr/local/lib/python3.7/dist-packages (from ffn->starfishX) (0.9.0)\n",
            "Requirement already satisfied: matplotlib>=1 in /usr/local/lib/python3.7/dist-packages (from ffn->starfishX) (3.2.2)\n",
            "Requirement already satisfied: future>=0.15 in /usr/local/lib/python3.7/dist-packages (from ffn->starfishX) (0.16.0)\n",
            "Requirement already satisfied: tabulate>=0.7.5 in /usr/local/lib/python3.7/dist-packages (from ffn->starfishX) (0.8.9)\n",
            "Requirement already satisfied: python-dateutil>=2.1 in /usr/local/lib/python3.7/dist-packages (from matplotlib>=1->ffn->starfishX) (2.8.2)\n",
            "Requirement already satisfied: pyparsing!=2.0.4,!=2.1.2,!=2.1.6,>=2.0.1 in /usr/local/lib/python3.7/dist-packages (from matplotlib>=1->ffn->starfishX) (2.4.7)\n",
            "Requirement already satisfied: cycler>=0.10 in /usr/local/lib/python3.7/dist-packages (from matplotlib>=1->ffn->starfishX) (0.11.0)\n",
            "Requirement already satisfied: kiwisolver>=1.0.1 in /usr/local/lib/python3.7/dist-packages (from matplotlib>=1->ffn->starfishX) (1.3.2)\n",
            "Requirement already satisfied: pytz>=2017.2 in /usr/local/lib/python3.7/dist-packages (from pandas->starfishX) (2018.9)\n",
            "Requirement already satisfied: lxml in /usr/local/lib/python3.7/dist-packages (from pandas-datareader>=0.2->ffn->starfishX) (4.2.6)\n",
            "Requirement already satisfied: six>=1.5 in /usr/local/lib/python3.7/dist-packages (from python-dateutil>=2.1->matplotlib>=1->ffn->starfishX) (1.15.0)\n",
            "Requirement already satisfied: chardet<4,>=3.0.2 in /usr/local/lib/python3.7/dist-packages (from requests->starfishX) (3.0.4)\n",
            "Requirement already satisfied: idna<3,>=2.5 in /usr/local/lib/python3.7/dist-packages (from requests->starfishX) (2.10)\n",
            "Requirement already satisfied: certifi>=2017.4.17 in /usr/local/lib/python3.7/dist-packages (from requests->starfishX) (2021.10.8)\n",
            "Requirement already satisfied: joblib>=0.11 in /usr/local/lib/python3.7/dist-packages (from scikit-learn>=0.15->ffn->starfishX) (1.1.0)\n",
            "Requirement already satisfied: webencodings in /usr/local/lib/python3.7/dist-packages (from html5lib->starfishX) (0.5.1)\n",
            "Requirement already satisfied: PyQt5-sip<13,>=12.8 in /usr/local/lib/python3.7/dist-packages (from pyqt5->starfishX) (12.9.0)\n",
            "Requirement already satisfied: PyQt5-Qt5>=5.15.2 in /usr/local/lib/python3.7/dist-packages (from pyqt5->starfishX) (5.15.2)\n",
            "Requirement already satisfied: tinydb>=3.0 in /usr/local/lib/python3.7/dist-packages (from pythainlp->starfishX) (4.5.2)\n",
            "Requirement already satisfied: python-crfsuite>=0.9.6 in /usr/local/lib/python3.7/dist-packages (from pythainlp->starfishX) (0.9.7)\n",
            "Requirement already satisfied: typing-extensions<4.0.0,>=3.10.0 in /usr/local/lib/python3.7/dist-packages (from tinydb>=3.0->pythainlp->starfishX) (3.10.0.2)\n"
          ]
        }
      ]
    },
    {
      "cell_type": "code",
      "metadata": {
        "id": "9WpbZByYxOPc",
        "colab": {
          "base_uri": "https://localhost:8080/"
        },
        "outputId": "c11fcf2f-d197-4354-c2fc-c230326f5bb9"
      },
      "source": [
        "pip install pandas_ta"
      ],
      "execution_count": null,
      "outputs": [
        {
          "output_type": "stream",
          "name": "stdout",
          "text": [
            "Requirement already satisfied: pandas_ta in /usr/local/lib/python3.7/dist-packages (0.3.14b0)\n",
            "Requirement already satisfied: pandas in /usr/local/lib/python3.7/dist-packages (from pandas_ta) (1.1.5)\n",
            "Requirement already satisfied: numpy>=1.15.4 in /usr/local/lib/python3.7/dist-packages (from pandas->pandas_ta) (1.19.5)\n",
            "Requirement already satisfied: python-dateutil>=2.7.3 in /usr/local/lib/python3.7/dist-packages (from pandas->pandas_ta) (2.8.2)\n",
            "Requirement already satisfied: pytz>=2017.2 in /usr/local/lib/python3.7/dist-packages (from pandas->pandas_ta) (2018.9)\n",
            "Requirement already satisfied: six>=1.5 in /usr/local/lib/python3.7/dist-packages (from python-dateutil>=2.7.3->pandas->pandas_ta) (1.15.0)\n"
          ]
        }
      ]
    },
    {
      "cell_type": "code",
      "metadata": {
        "id": "gYPWRiuMxQCm",
        "colab": {
          "base_uri": "https://localhost:8080/"
        },
        "outputId": "6a1b186f-b41c-4dbf-9bb1-c441fa1611cc"
      },
      "source": [
        "pip install colorama"
      ],
      "execution_count": null,
      "outputs": [
        {
          "output_type": "stream",
          "name": "stdout",
          "text": [
            "Requirement already satisfied: colorama in /usr/local/lib/python3.7/dist-packages (0.4.4)\n"
          ]
        }
      ]
    },
    {
      "cell_type": "markdown",
      "metadata": {
        "id": "VdhME0dKx0iB"
      },
      "source": [
        "## **IMPORT LIBRALY**"
      ]
    },
    {
      "cell_type": "code",
      "metadata": {
        "id": "Gz1UiBhJxQew"
      },
      "source": [
        "import starfishX as sx\n",
        "import matplotlib.pyplot as plt\n",
        "import seaborn as sns\n",
        "import pandas as pd\n",
        "import mplfinance as mpf\n",
        "%matplotlib inline\n",
        "from mpl_finance import candlestick2_ohlc\n",
        "import numpy as np\n",
        "\n",
        "# change color\n",
        "import colorama\n",
        "from colorama import Fore, Back, Style"
      ],
      "execution_count": null,
      "outputs": []
    },
    {
      "cell_type": "markdown",
      "metadata": {
        "id": "3bjJSrWwxZ-c"
      },
      "source": [
        "## **SET_50 MEMBER**"
      ]
    },
    {
      "cell_type": "code",
      "metadata": {
        "id": "kmRQUT1GxXmc"
      },
      "source": [
        "#SET member\n",
        "SET_50 = ['ADVANC','AOT','BBL','BDMS','BEM','BGRIM','BH','BJC','BTS','CBG','COM7','CPALL','CPF','CPN','CRC','DELTA','DTAC','EA','EGCO','GLOBAL',\n",
        "          'GPSC','GULF','HMPRO','INTUCH','IRPC','IVL','KBANK','KCE','KTB','KTC','LH','MINT','MTC','OR','OSP','PTT','PTTEP','PTTGC','RATCH','SAWAD',\n",
        "          'SCB','SCC','SCGP','STA','STGT','TISCO','TOP','TRUE','TTB','TU']"
      ],
      "execution_count": null,
      "outputs": []
    },
    {
      "cell_type": "markdown",
      "metadata": {
        "id": "DTsXr259x-Ah"
      },
      "source": [
        "## **INSERTION PART**"
      ]
    },
    {
      "cell_type": "code",
      "metadata": {
        "id": "n0_9q_UyyT9f"
      },
      "source": [
        "\n",
        "# Insertion\n",
        "def insertion_function(list,member): \n",
        "  array_member = member\n",
        "  index = range(1, len(list))  \n",
        "  for i in index:\n",
        "    value_to_sort = list[i]\n",
        "    \n",
        "    while list[i-1] < value_to_sort and i>0:  \n",
        "      list[i],list[i-1] = list[i-1],list[i]\n",
        "      array_member[i],array_member[i-1] = array_member[i-1],array_member[i]\n",
        "      i = i-1  \n",
        "  \n",
        "  return array_member, list\n"
      ],
      "execution_count": null,
      "outputs": []
    },
    {
      "cell_type": "markdown",
      "metadata": {
        "id": "s1OcLsXuxj_X"
      },
      "source": [
        "## **1. Function to exhibit graph**"
      ]
    },
    {
      "cell_type": "code",
      "metadata": {
        "id": "EXMePTMrxicg",
        "colab": {
          "base_uri": "https://localhost:8080/",
          "height": 951
        },
        "outputId": "23933efa-54f3-431e-c396-7105af9ed3dd"
      },
      "source": [
        "##Function to Exhibit Graph\n",
        "\n",
        "#Calculate#####\n",
        "\n",
        "#MACD\n",
        "def computeMACD (df, n_fast, n_slow, n_smooth):\n",
        "    data = df['Adj Close']\n",
        "    \n",
        "    fastEMA = data.ewm(span=n_fast, min_periods=n_slow).mean()\n",
        "    slowEMA = data.ewm(span=n_slow, min_periods=n_slow).mean()\n",
        "    MACD = pd.Series(fastEMA-slowEMA, name = 'MACD')\n",
        "    MACDsig = pd.Series(MACD.ewm(span=n_smooth, min_periods=n_smooth).mean(), name='MACDsig')\n",
        "    MACDhist = pd.Series(MACD - MACDsig, name = 'MACDhist')\n",
        "    df = df.join(MACD)\n",
        "    df = df.join(MACDsig)\n",
        "    df = df.join(MACDhist)\n",
        "    \n",
        "    return df\n",
        "\n",
        "#RSI\n",
        "def rsi(df, periods = 14, ema = True):\n",
        "\n",
        "    close_delta = df['Close'].diff()\n",
        "\n",
        "    # Make two series: one for lower closes and one for higher closes\n",
        "    up = close_delta.clip(lower=0)\n",
        "    down = -1 * close_delta.clip(upper=0)\n",
        "    \n",
        "    if ema == True:\n",
        "\t    # Use exponential moving average\n",
        "        ma_up = up.ewm(com = periods - 1, adjust=True, min_periods = periods).mean()\n",
        "        ma_down = down.ewm(com = periods - 1, adjust=True, min_periods = periods).mean()\n",
        "    else:\n",
        "        # Use simple moving average\n",
        "        ma_up = up.rolling(window = periods, adjust=False).mean()\n",
        "        ma_down = down.rolling(window = periods, adjust=False).mean()\n",
        "        \n",
        "    rsi = ma_up / ma_down\n",
        "    rsi = 100 - (100/(1 + rsi))\n",
        "    return rsi\n",
        "#######\n",
        "\n",
        "##PLOT###\n",
        "\n",
        "def CandleGraph(member,Day_start,Day_end):\n",
        "  \n",
        "  nif = sx.loadHistData_v2(symbol=member , start=Day_start, end=Day_end)\n",
        "  fg, ax1 = plt.subplots()\n",
        "  cl = candlestick2_ohlc(ax=ax1,opens=nif['Open'],highs=nif['High'],lows=nif['Low'],closes=nif['Close'],width=0.4, colorup='#77d879', colordown='#db3f3f')\n",
        "  plt.title(member)  \n",
        "  plt.show()\n",
        "\n",
        "def RsiGraph(df, periods = 14, ema = True):\n",
        "    close_delta = df['Close'].diff()\n",
        "\n",
        "    # Make two series: one for lower closes and one for higher closes\n",
        "    up = close_delta.clip(lower=0)\n",
        "    down = -1 * close_delta.clip(upper=0)\n",
        "    \n",
        "    if ema == True:\n",
        "\t    # Use exponential moving average\n",
        "        ma_up = up.ewm(com = periods - 1, adjust=True, min_periods = periods).mean()\n",
        "        ma_down = down.ewm(com = periods - 1, adjust=True, min_periods = periods).mean()\n",
        "    else:\n",
        "        # Use simple moving average\n",
        "        ma_up = up.rolling(window = periods, adjust=False).mean()\n",
        "        ma_down = down.rolling(window = periods, adjust=False).mean()\n",
        "        \n",
        "    rsi = ma_up / ma_down\n",
        "    rsi = 100 - (100/(1 + rsi))\n",
        "    plt.figure(figsize=(10,2.5))\n",
        "    plt.title('RSI')\n",
        "    #\n",
        "    plt.plot(rsi.index, [70] * len(rsi.index), label=\"overbought\",linestyle='dashed')\n",
        "    plt.plot(rsi.index, [30] * len(rsi.index), label=\"oversold\",linestyle='dashed')\n",
        "    #\n",
        "    plt.plot()\n",
        "    plt.xticks(rotation=45, ha='right')\n",
        "    plt.plot(rsi)\n",
        "    \n",
        "\n",
        "def MACDGraph(df, n_fast, n_slow, n_smooth):\n",
        "    data = df['Adj Close']\n",
        "    \n",
        "    fastEMA = data.ewm(span=n_fast, min_periods=n_slow).mean()\n",
        "    slowEMA = data.ewm(span=n_slow, min_periods=n_slow).mean()\n",
        "    MACD = pd.Series(fastEMA-slowEMA, name = 'MACD')\n",
        "    MACDsig = pd.Series(MACD.ewm(span=n_smooth, min_periods=n_smooth).mean(), name='MACDsig')\n",
        "    MACDhist = pd.Series(MACD - MACDsig, name = 'MACDhist')\n",
        "    df = df.join(MACD)\n",
        "    df = df.join(MACDsig)\n",
        "    df = df.join(MACDhist)  \n",
        "    #plot graph\n",
        "    plt.figure(figsize=(10,2.5))\n",
        "    plt.title('MACD chart')\n",
        "    plt.plot(df.index, df['MACD'].fillna(0))\n",
        "    plt.plot(df.index, df['MACDsig'].fillna(0))\n",
        "    plt.plot(df.index, df['MACDhist'].fillna(0))\n",
        "    plt.bar(df.index, df['MACDhist'].fillna(0), width=0.5, snap=False)\n",
        "    \n",
        "\n",
        "def VolumeGraph(member):\n",
        "  y = member['Volume']\n",
        "  plt.title('volumes per day')\n",
        "  plt.xlabel('days')\n",
        "  plt.ylabel('Volumes(10^8)')\n",
        "  plt.bar( range(len(y)), y, color='green')\n",
        "\n",
        "    \n",
        "####\n",
        "def CreateGraph(member, Day_start, Day_end):\n",
        "  Day_end = (pd.Timestamp(Day_end) + pd.DateOffset(days=1)).strftime('%Y-%m-%d')\n",
        "  dtmember = sx.loadHistData_v2(symbol=member , start=Day_start, end=Day_end)\n",
        "  CandleGraph(member,Day_start,Day_end)\n",
        "  VolumeGraph(dtmember)\n",
        "  RsiGraph(dtmember, periods = 14, ema = True)\n",
        "  MACDGraph(dtmember, 12, 26, 9)\n",
        "  \n",
        "\n",
        "##Example Call\n",
        "CreateGraph(member='cpn', Day_start= '2021-5-25', Day_end = '2021-11-8')"
      ],
      "execution_count": null,
      "outputs": [
        {
          "output_type": "display_data",
          "data": {
            "image/png": "[encoded data removed]",
            "text/plain": [
              "<Figure size 432x288 with 1 Axes>"
            ]
          },
          "metadata": {
            "needs_background": "light"
          }
        },
        {
          "output_type": "display_data",
          "data": {
            "image/png": "[encoded data removed]",
            "text/plain": [
              "<Figure size 432x288 with 1 Axes>"
            ]
          },
          "metadata": {
            "needs_background": "light"
          }
        },
        {
          "output_type": "display_data",
          "data": {
            "image/png": "[encoded data removed]",
            "text/plain": [
              "<Figure size 720x180 with 1 Axes>"
            ]
          },
          "metadata": {
            "needs_background": "light"
          }
        },
        {
          "output_type": "display_data",
          "data": {
            "image/png": "[encoded data removed]",
            "text/plain": [
              "<Figure size 720x180 with 1 Axes>"
            ]
          },
          "metadata": {
            "needs_background": "light"
          }
        }
      ]
    },
    {
      "cell_type": "markdown",
      "metadata": {
        "id": "CxUd_JZvyiEH"
      },
      "source": [
        "##**2. Scan by user condition**"
      ]
    },
    {
      "cell_type": "code",
      "metadata": {
        "id": "lXDlOmpPylvl"
      },
      "source": [
        "## Scan condition function\n",
        "def RSIandMACDcondition( member, Day_end, RSI_want_LOW, RSI_want_HIGH, MACD_want_morethan):\n",
        "  \n",
        "  Day_start = (pd.Timestamp(Day_end) - pd.DateOffset(days=60)).strftime('%Y-%m-%d')\n",
        "  Day_end = (pd.Timestamp(Day_end) + pd.DateOffset(days=1)).strftime('%Y-%m-%d')\n",
        "  ScanResults = []\n",
        "  percentchange = []\n",
        "\n",
        "  for i in range(len(member)):\n",
        "    mem_cal = member[i]\n",
        "    df =  sx.loadHistData_v2(symbol=member[i] ,start=Day_start,end=Day_end)\n",
        "  \n",
        "    #RSI check\n",
        "    RSI_Value = rsi(df,periods = 14, ema = True)\n",
        "    RSI_lastdate = float(RSI_Value.tail(1))\n",
        "    \n",
        "\n",
        "    if RSI_lastdate<=RSI_want_LOW or RSI_lastdate>=RSI_want_HIGH: # do not want to keep\n",
        "      continue\n",
        "    else:\n",
        "      #MACD check\n",
        "      MACD_Value = computeMACD (df, 12, 26, 9)\n",
        "      MACD_lastdate = MACD_Value.tail(1).loc[:,[\"MACD\"]].to_numpy()\n",
        "\n",
        "      if MACD_lastdate <= MACD_want_morethan: \n",
        "        continue\n",
        "      else:\n",
        "        ScanResults.append(member[i])\n",
        "  \n",
        "  # Find percent change\n",
        "  for i in range(len(ScanResults)): \n",
        "    data = sx.loadHistData_v2(symbol=ScanResults[i] ,start=Day_start,end=Day_end).tail(1)\n",
        "    percent_value = (float((data['Close']*100)/data['Open']) - 100)\n",
        "    percentchange.append(percent_value)\n",
        "\n",
        "  result = insertion_function(percentchange,ScanResults)\n",
        "  header =  [\"Name\", \"PercentChange\"]\n",
        "  answer = pd.DataFrame(result, header).transpose()\n",
        "  \n",
        "  return answer\n",
        "\n",
        "\n",
        "# RSIandMACDcondition(member=SET_50, Day_end='2021-11-11', RSI_want_LOW=50, RSI_want_HIGH=70, MACD_want_morethan=0)\n",
        "\n",
        "\n",
        "      "
      ],
      "execution_count": null,
      "outputs": []
    },
    {
      "cell_type": "markdown",
      "metadata": {
        "id": "3IQpXw-Oywos"
      },
      "source": [
        "## **3.Percent change function**"
      ]
    },
    {
      "cell_type": "code",
      "metadata": {
        "id": "44FAQJa-zRis"
      },
      "source": [
        "Pcname = []\n",
        "PcarrayS=[]\n",
        "Pchange = []\n",
        "x=[]\n",
        "Pcarray=[]\n",
        "Name_result=[]\n",
        "percent_result=[]\n",
        "\n",
        "\n",
        "def percentChange_PC( data_1, Day_start, Day_end):\n",
        "  for i in range(len(SET_50)):\n",
        "   ed = (pd.Timestamp(Day_end) + pd.DateOffset(days=1)).strftime('%Y-%m-%d')\n",
        "   data = sx.loadHistData_v2(data_1[i],start= Day_end,end=ed)\n",
        "   Pchange = (float((data['Close']*100)/data['Open']) - 100)\n",
        "   Pcname.append(data_1[i])\n",
        "   Pcarray.append(Pchange) \n",
        "\n",
        "\n",
        "\n",
        "def insertion_For_Pc(list):\n",
        "  index = range(1, len(list))  \n",
        "  for i in index:\n",
        "    value_to_sort = list[i]\n",
        "    \n",
        "    while list[i-1] > value_to_sort and i>0:  \n",
        "      list[i],list[i-1] = list[i-1],list[i]\n",
        "      Pcname[i],Pcname[i-1] = Pcname[i-1],Pcname[i]\n",
        "      i = i-1  \n",
        "      \n",
        "    \n",
        "\n",
        "def delete( num , L):\n",
        "  for i in range(50):\n",
        "    if num[i] > L :\n",
        "      x.append(i)\n",
        "     \n",
        "\n",
        "def AuserPchange( data, start, end, L) :\n",
        "\n",
        "  percentChange_PC(data, start, end)\n",
        "  insertion_For_Pc(Pcarray)\n",
        "  delete(Pcarray , L)\n",
        "  for i in range(len(x)):\n",
        "    Name_result.append(Pcname[x[i]])\n",
        "    percent_result.append(Pcarray[x[i]])\n",
        "  \n",
        "  header = ('Name','Percent Change') \n",
        "  result = (Name_result,percent_result)\n",
        "  answer = pd.DataFrame(result, header).transpose()\n",
        "  print(answer)\n",
        "  return answer\n",
        "\n",
        "\n",
        "def DuserPchange( data, start, end, L) :\n",
        "\n",
        "  percentChange_PC(data, start, end)\n",
        "  insertion_For_Pc(Pcarray)\n",
        "  delete(Pcarray  , L)\n",
        "  for i in range(len(x)-1, -1, -1):\n",
        "    Name_result.append(Pcname[x[i]])\n",
        "    percent_result.append(Pcarray[x[i]])\n",
        "  \n",
        "  header = ('Name','PercentChange') \n",
        "  result = (Name_result,percent_result)\n",
        "  answer = pd.DataFrame(result, header).transpose()\n",
        "  print(answer)\n",
        "  return answer\n",
        "  \n",
        "\n",
        "def AorD(C):\n",
        "  if (C is 'A')  :\n",
        "    AuserPchange( SET_50, s, e, L)\n",
        "  elif (C is 'D') :\n",
        "    DuserPchange( SET_50, s, e, L)\n",
        "  else :\n",
        "    print(Fore.RED +\"***********ERROR************ENTER A OR D ONLY***********ERROR************\"+Style.RESET_ALL)\n",
        "    \n",
        "\n",
        "def Percent_change_custom(s, e, L):\n",
        "  C = str(input(\"Type A for ascending order , D for decending order : \"))\n",
        "  print(\"\\n\")\n",
        "  AorD(C)\n",
        "\n",
        "\n",
        "\n"
      ],
      "execution_count": null,
      "outputs": []
    },
    {
      "cell_type": "markdown",
      "metadata": {
        "id": "so03L3Z15Ovh"
      },
      "source": [
        "## **4. Most Active Volume**"
      ]
    },
    {
      "cell_type": "code",
      "metadata": {
        "id": "waICKw_65W2O"
      },
      "source": [
        "##Volume Last\n",
        "\n",
        "def MostActiveVolume(Day_end):\n",
        "  array_Volume=[]\n",
        "  Day_end = (pd.Timestamp(Day_end) + pd.DateOffset(days=1)).strftime('%Y-%m-%d')\n",
        "\n",
        "  for i in range(len(SET_50)):\n",
        "    data = sx.loadHistData_v2(symbol=SET_50[i], start='2021-9-25', end= Day_end)   \n",
        "    array_Volume.append(int(data['Volume'].tail(1)))\n",
        "\n",
        "  result = insertion_function(array_Volume,SET_50)\n",
        "  header =  [\"Name\", \"Volume\"]\n",
        "  answer = pd.DataFrame(result, header).transpose()\n",
        "  return answer\n",
        "\n",
        "#EX.\n",
        "# MostActiveVolume('2021-10-16')"
      ],
      "execution_count": null,
      "outputs": []
    },
    {
      "cell_type": "markdown",
      "metadata": {
        "id": "tKpmz5s_usxF"
      },
      "source": [
        "## **User Using**"
      ]
    },
    {
      "cell_type": "code",
      "metadata": {
        "id": "ipj5vumPzxP8",
        "colab": {
          "base_uri": "https://localhost:8080/"
        },
        "outputId": "65ddbafa-50ac-4398-bdb4-3e9cada33acd"
      },
      "source": [
        "print(\"Welcome to Stock scanner SET50 programme\")\n",
        "print(\"Please typing a number to select a function\")\n",
        "\n",
        "print(\"\\n****************OUR FUNTION*****************\")\n",
        "print(\"\\nType '1' : Graph Exhibition \")\n",
        "print(\"Type '2' : Scan by user condition(Using MACD and RSI) \")\n",
        "print(\"Type '3' : Find TopGainer or TopLoser\")\n",
        "print(\"Type '4' : Most Active Volume \")\n",
        "print(\"\\n***********Plese type to select************\\n\")\n",
        "\n",
        "UserChoice = int(input(\"selecting the number : \"))\n",
        "print(\"\\n*************************\\n\")\n",
        "\n",
        "if (UserChoice is 1 ): #Create Graph\n",
        "  member    = str(input(\"Please Input the name of the stock : \"))\n",
        "  Day_start = str(input(\"Please enter day start in the form of 'yyyy-mm-dd' : \"))\n",
        "  Day_end   = str(input(\"Please enter day end in the form of 'yyyy-mm-dd' : \"))\n",
        "  print(\"\\n *******RESULT******* \\n\")\n",
        "\n",
        "  CreateGraph(member, Day_start, Day_end)\n",
        "  \n",
        "  \n",
        "\n",
        "elif(UserChoice is 2): \n",
        "  \n",
        "  Day_end   = str(input(\"Please enter day that you want in the form of 'yyyy-mm-dd' : \"))\n",
        "  RSI_want_LOW = int(input(\"Please enter The lowest RSI Value you want  : \"))\n",
        "  RSI_want_HIGH = int(input(\"Please enter The Highest RSI Value you want  : \"))\n",
        "  MACD_want_morethan = int(input(\"Please enter The Lowest MACD Value you want  : \"))\n",
        "  print('\\n')\n",
        "  print(RSIandMACDcondition(SET_50, Day_end, RSI_want_LOW, RSI_want_HIGH, MACD_want_morethan))\n",
        "  \n",
        "\n",
        "elif (UserChoice is 3):\n",
        "  e = str(input(\"Please enter day that you want in the form of 'yyyy-mm-dd' : \"))\n",
        "  s = (pd.Timestamp(e) - pd.DateOffset(days=1)).strftime('%Y-%m-%d')\n",
        "  try :\n",
        "    L = int(input(\"Please enter the minimum percentchange you want in the form of 'Percent change : \"))\n",
        "  except ValueError :\n",
        "    raise ValueError(Fore.RED +\"**********ERROR***********ENTER NUMBER ONLY**********ERROR***********\"+Style.RESET_ALL)\n",
        "  Percent_change_custom(s, e, L)\n",
        "  \n",
        "\n",
        "elif (UserChoice is 4):\n",
        "  Day_end = input(\"Please enter day that you want in the form of 'yyyy-mm-dd' : \")\n",
        "  print('\\n')\n",
        "  print(MostActiveVolume(Day_end))\n",
        "  \n",
        "\n",
        "else:\n",
        "  print(Fore.RED + \"You may write a wrong input, plese select the number again\" +Style.RESET_ALL)\n",
        "\n",
        "print(\"\\n\")\n",
        "print(\"*****Thank you for using our programme*****\")\n"
      ],
      "execution_count": null,
      "outputs": [
        {
          "output_type": "stream",
          "name": "stdout",
          "text": [
            "Welcome to Stock scanner SET50 programme\n",
            "Please typing a number to select a function\n",
            "\n",
            "****************OUR FUNTION*****************\n",
            "\n",
            "Type '1' : Graph Exhibition \n",
            "Type '2' : Scan by user condition(Using MACD and RSI) \n",
            "Type '3' : Find TopGainer or TopLoser\n",
            "Type '4' : Most Active Volume \n",
            "\n",
            "***********Plese type to select************\n",
            "\n",
            "selecting the number : 4\n",
            "\n",
            "*************************\n",
            "\n",
            "Please enter day that you want in the form of 'yyyy-mm-dd' : 2021-11-04\n",
            "\n",
            "\n",
            "      Name     Volume\n",
            "0      TTB  463240300\n",
            "1     TRUE  166921400\n",
            "2     IRPC   94064000\n",
            "3    KBANK   81136400\n",
            "4       OR   80738300\n",
            "5      PTT   57080200\n",
            "6    HMPRO   48357100\n",
            "7       LH   40784000\n",
            "8      BBL   38546500\n",
            "9      CPF   29917500\n",
            "10     AOT   25895900\n",
            "11      TU   24600900\n",
            "12     KTB   24367300\n",
            "13     MTC   23757200\n",
            "14     SCB   21592400\n",
            "15   SAWAD   21376100\n",
            "16    BDMS   18461100\n",
            "17     BEM   17106900\n",
            "18    DTAC   17050600\n",
            "19    GULF   17024700\n",
            "20     KTC   15870400\n",
            "21   CPALL   15323400\n",
            "22   PTTEP   14624200\n",
            "23    SCGP   13958300\n",
            "24     BTS   13331300\n",
            "25     IVL   13010300\n",
            "26     CBG   12947800\n",
            "27   PTTGC   12439700\n",
            "28  GLOBAL   10984900\n",
            "29     KCE   10692100\n",
            "30    GPSC   10479000\n",
            "31      EA    9744200\n",
            "32     OSP    9164900\n",
            "33     CRC    8624300\n",
            "34  INTUCH    8155600\n",
            "35   BGRIM    7689200\n",
            "36    STGT    6854600\n",
            "37     CPN    6498000\n",
            "38     TOP    6415000\n",
            "39   TISCO    6169200\n",
            "40  ADVANC    5281000\n",
            "41     SCC    5022300\n",
            "42     BJC    4380400\n",
            "43    COM7    4290900\n",
            "44     STA    4033600\n",
            "45   RATCH    3121900\n",
            "46    MINT    2930700\n",
            "47   DELTA    2393000\n",
            "48      BH    1835500\n",
            "49    EGCO     996500\n",
            "\n",
            "\n",
            "*****Thank you for using our programme*****\n"
          ]
        }
      ]
    }
  ]
}